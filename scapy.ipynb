{
 "cells": [
  {
   "cell_type": "markdown",
   "metadata": {},
   "source": [
    "I became interested in understanding how network packets work when I read this book by Greg Conti:"
   ]
  },
  {
   "cell_type": "code",
   "execution_count": 1,
   "metadata": {
    "collapsed": false
   },
   "outputs": [
    {
     "data": {
      "text/html": [
       "\n",
       "        <iframe\n",
       "            width=\"200\"\n",
       "            height=\"300\"\n",
       "            src=\"http://ecx.images-amazon.com/images/I/51gaXuc-WRL._SX258_BO1,204,203,200_.jpg\"\n",
       "            frameborder=\"0\"\n",
       "            allowfullscreen\n",
       "        ></iframe>\n",
       "        "
      ],
      "text/plain": [
       "<IPython.lib.display.IFrame at 0x1077baf50>"
      ]
     },
     "execution_count": 1,
     "metadata": {},
     "output_type": "execute_result"
    }
   ],
   "source": [
    "from IPython.display import IFrame\n",
    "IFrame('http://ecx.images-amazon.com/images/I/51gaXuc-WRL._SX258_BO1,204,203,200_.jpg', width=200, height=300)"
   ]
  },
  {
   "cell_type": "markdown",
   "metadata": {},
   "source": [
    "It had some cool parallel plots to see what was being sent and received. The closest picture I could find is this:"
   ]
  },
  {
   "cell_type": "code",
   "execution_count": 2,
   "metadata": {
    "collapsed": false
   },
   "outputs": [
    {
     "data": {
      "text/html": [
       "\n",
       "        <iframe\n",
       "            width=\"500\"\n",
       "            height=\"300\"\n",
       "            src=\"http://www.nsa.gatech.edu/honeynet/reports/images/vistool.gif\"\n",
       "            frameborder=\"0\"\n",
       "            allowfullscreen\n",
       "        ></iframe>\n",
       "        "
      ],
      "text/plain": [
       "<IPython.lib.display.IFrame at 0x1077c3610>"
      ]
     },
     "execution_count": 2,
     "metadata": {},
     "output_type": "execute_result"
    }
   ],
   "source": [
    "IFrame('http://www.nsa.gatech.edu/honeynet/reports/images/vistool.gif', width=500, height=300)"
   ]
  },
  {
   "cell_type": "code",
   "execution_count": 3,
   "metadata": {
    "collapsed": false
   },
   "outputs": [
    {
     "data": {
      "text/html": [
       "\n",
       "        <iframe\n",
       "            width=\"500\"\n",
       "            height=\"300\"\n",
       "            src=\"http://www.nsa.gatech.edu/honeynet/reports/images/secvis.jpg\"\n",
       "            frameborder=\"0\"\n",
       "            allowfullscreen\n",
       "        ></iframe>\n",
       "        "
      ],
      "text/plain": [
       "<IPython.lib.display.IFrame at 0x1077c3310>"
      ]
     },
     "execution_count": 3,
     "metadata": {},
     "output_type": "execute_result"
    }
   ],
   "source": [
    "IFrame('http://www.nsa.gatech.edu/honeynet/reports/images/secvis.jpg', width=500, height=300)"
   ]
  },
  {
   "cell_type": "markdown",
   "metadata": {},
   "source": [
    "I was inspired to do a talk on Scapy by Julia Evans' talk at Pycon a few years ago, [Easy network hacking with scapy #MP47](https://www.youtube.com/watch?v=EnuF9ZR6MVc)\n",
    "And her slides: [https://github.com/jvns/talks/blob/master/2014-06-mtlpy-scapy/easy-network-hacking-with-scapy.ipynb]()"
   ]
  },
  {
   "cell_type": "markdown",
   "metadata": {},
   "source": [
    "# Packet manipulation without Scapy"
   ]
  },
  {
   "cell_type": "markdown",
   "metadata": {},
   "source": [
    "I wanted to learn about networking, packets, protocols, etc. so I decided to first try and do things without a library that abstracts this away. I searched around and found the two libraries **impacket** and **pcapy**."
   ]
  },
  {
   "cell_type": "code",
   "execution_count": 4,
   "metadata": {
    "collapsed": false
   },
   "outputs": [
    {
     "data": {
      "text/html": [
       "\n",
       "        <iframe\n",
       "            width=\"1000\"\n",
       "            height=\"270\"\n",
       "            src=\"https://pypi.python.org/pypi/impacket/0.9.13\"\n",
       "            frameborder=\"0\"\n",
       "            allowfullscreen\n",
       "        ></iframe>\n",
       "        "
      ],
      "text/plain": [
       "<IPython.lib.display.IFrame at 0x1077b1f10>"
      ]
     },
     "execution_count": 4,
     "metadata": {},
     "output_type": "execute_result"
    }
   ],
   "source": [
    "from IPython.display import IFrame\n",
    "IFrame('https://pypi.python.org/pypi/impacket/0.9.13', width=1000, height=270)"
   ]
  },
  {
   "cell_type": "code",
   "execution_count": 5,
   "metadata": {
    "collapsed": false,
    "scrolled": true
   },
   "outputs": [
    {
     "data": {
      "text/html": [
       "\n",
       "        <iframe\n",
       "            width=\"1000\"\n",
       "            height=\"170\"\n",
       "            src=\"https://pypi.python.org/pypi/pcapy/0.10.8#what-is-pcapy\"\n",
       "            frameborder=\"0\"\n",
       "            allowfullscreen\n",
       "        ></iframe>\n",
       "        "
      ],
      "text/plain": [
       "<IPython.lib.display.IFrame at 0x1077b1350>"
      ]
     },
     "execution_count": 5,
     "metadata": {},
     "output_type": "execute_result"
    }
   ],
   "source": [
    "IFrame('https://pypi.python.org/pypi/pcapy/0.10.8#what-is-pcapy', width=1000, height=170)"
   ]
  },
  {
   "cell_type": "markdown",
   "metadata": {},
   "source": [
    "I had no idea what I was doing, so I googled for some already existing code snippets that I copied to understand how they worked:"
   ]
  },
  {
   "cell_type": "code",
   "execution_count": 6,
   "metadata": {
    "collapsed": false
   },
   "outputs": [
    {
     "data": {
      "text/html": [
       "\n",
       "        <iframe\n",
       "            width=\"750\"\n",
       "            height=\"350\"\n",
       "            src=\"http://snipplr.com/view/3579/#viewsource\"\n",
       "            frameborder=\"0\"\n",
       "            allowfullscreen\n",
       "        ></iframe>\n",
       "        "
      ],
      "text/plain": [
       "<IPython.lib.display.IFrame at 0x1077b1390>"
      ]
     },
     "execution_count": 6,
     "metadata": {},
     "output_type": "execute_result"
    }
   ],
   "source": [
    "IFrame('http://snipplr.com/view/3579/#viewsource', width=750, height=350)"
   ]
  },
  {
   "cell_type": "code",
   "execution_count": 7,
   "metadata": {
    "collapsed": false
   },
   "outputs": [
    {
     "data": {
      "text/html": [
       "\n",
       "        <iframe\n",
       "            width=\"1000\"\n",
       "            height=\"250\"\n",
       "            src=\"http://www.binarytides.com/code-a-packet-sniffer-in-python-with-pcapy-extension/#dd_start\"\n",
       "            frameborder=\"0\"\n",
       "            allowfullscreen\n",
       "        ></iframe>\n",
       "        "
      ],
      "text/plain": [
       "<IPython.lib.display.IFrame at 0x1077b1d10>"
      ]
     },
     "execution_count": 7,
     "metadata": {},
     "output_type": "execute_result"
    }
   ],
   "source": [
    "IFrame('http://www.binarytides.com/code-a-packet-sniffer-in-python-with-pcapy-extension/#dd_start', width=1000, height=250)"
   ]
  },
  {
   "cell_type": "markdown",
   "metadata": {},
   "source": [
    "First I use `help()` to find out about this packet"
   ]
  },
  {
   "cell_type": "code",
   "execution_count": null,
   "metadata": {
    "collapsed": false
   },
   "outputs": [],
   "source": [
    "import pcapy\n",
    "\n",
    "help(pcapy)"
   ]
  },
  {
   "cell_type": "markdown",
   "metadata": {
    "collapsed": false
   },
   "source": [
    "We are going to use the `open_live` function. Since it requires a device as one of its arguments, let's look at what devices are available:\n",
    "\n",
    "**/!\\ Remember to run this ipython notebook in sudo mode to use pcapy and scapy**"
   ]
  },
  {
   "cell_type": "code",
   "execution_count": null,
   "metadata": {
    "collapsed": false
   },
   "outputs": [],
   "source": [
    "pcapy.findalldevs()"
   ]
  },
  {
   "cell_type": "markdown",
   "metadata": {},
   "source": [
    "Let's capture on the wifi which is `'en1'`:"
   ]
  },
  {
   "cell_type": "code",
   "execution_count": null,
   "metadata": {
    "collapsed": false
   },
   "outputs": [],
   "source": [
    "# Arguments here are:\n",
    "#   device\n",
    "#   snaplen (maximum number of bytes to capture _per_packet_)\n",
    "#   promiscious mode (1 for true)\n",
    "#   timeout (in milliseconds)\n",
    "device = 'en1'\n",
    "snaplen = 65536\n",
    "promiscuous = False\n",
    "timeout = 100\n",
    "pcapy.open_live(device, snaplen, promiscuous, timeout)"
   ]
  },
  {
   "cell_type": "code",
   "execution_count": null,
   "metadata": {
    "collapsed": true
   },
   "outputs": [],
   "source": [
    "packet_capture = pcapy.open_live(device, snaplen, promiscuous, timeout)"
   ]
  },
  {
   "cell_type": "code",
   "execution_count": null,
   "metadata": {
    "collapsed": false
   },
   "outputs": [],
   "source": [
    "help(packet_capture)\n",
    "print '\\n'.join(dir(packet_capture))\n",
    "print\n",
    "help(packet_capture.loop)"
   ]
  },
  {
   "cell_type": "markdown",
   "metadata": {},
   "source": [
    "Let's use the `loop` function to get 20 packets."
   ]
  },
  {
   "cell_type": "code",
   "execution_count": null,
   "metadata": {
    "collapsed": false,
    "scrolled": true
   },
   "outputs": [],
   "source": [
    "from impacket.ImpactDecoder import EthDecoder\n",
    "\n",
    "## callback function for received packets\n",
    "def receive_packets(header, packet):\n",
    "    \"\"\"header and packet make up the packet object\"\"\"\n",
    "    print header\n",
    "    print '-'*len(repr(header))\n",
    "    data = EthDecoder().decode(packet)\n",
    "    print data\n",
    "\n",
    "    return\n",
    "\n",
    "packet_limit = 20\n",
    "packet_capture.loop(packet_limit, receive_packets)"
   ]
  },
  {
   "cell_type": "code",
   "execution_count": null,
   "metadata": {
    "collapsed": false
   },
   "outputs": [],
   "source": [
    "from struct import unpack\n",
    "import socket\n",
    "import datetime\n",
    "\n",
    "print \"Listening on %s: net=%s, mask=%s\" % (\n",
    "    device, packet_capture.getnet(), packet_capture.getmask()\n",
    ")\n",
    "\n",
    "def eth_addr(a):\n",
    "    \"\"\"Convert a string of 6 characters of ethernet address into a dash separated hex string\"\"\"\n",
    "    b = \"%.2x:%.2x:%.2x:%.2x:%.2x:%.2x\" % (ord(a[0]) , ord(a[1]) , ord(a[2]), ord(a[3]), ord(a[4]) , ord(a[5]))\n",
    "    return b\n",
    "\n",
    "def parse_packet(packet, verbose=False):\n",
    "\n",
    "    ## parse ethernet header\n",
    "    eth_length = 14\n",
    "    eth_header = packet[:eth_length]\n",
    "    eth = unpack('!6s6sH', eth_header)\n",
    "    eth_protocol = socket.ntohs(eth[2])\n",
    "\n",
    "    d_mac = eth_addr(packet[0:6])\n",
    "    s_mac = eth_addr(packet[6:12])\n",
    "\n",
    "    if verbose:\n",
    "        print\n",
    "        print 'Ethernet header'\n",
    "        print '---------------'\n",
    "        print 'Destination MAC:     %s' % d_mac\n",
    "        print 'Source MAC:          %s' % s_mac\n",
    "        print 'Protocol:            %s' % eth_protocol\n",
    "\n",
    "    ## parse IP packets, IP Protocol number = 8\n",
    "    if eth_protocol == 8:\n",
    "\n",
    "        ## parse IP header\n",
    "        ## take first 20 characters for the ip header\n",
    "        ip_header = packet[eth_length:20+eth_length]\n",
    "\n",
    "        ## unpack them\n",
    "        iph = unpack('!BBHHHBBH4s4s' , ip_header)\n",
    "\n",
    "        version_ihl = iph[0]\n",
    "        version = version_ihl >> 4\n",
    "        ihl = version_ihl & 0xF\n",
    "\n",
    "        iph_length = ihl * 4\n",
    "\n",
    "        ttl = iph[5]\n",
    "        protocol = iph[6]\n",
    "        s_addr = socket.inet_ntoa(iph[8]);\n",
    "        d_addr = socket.inet_ntoa(iph[9]);\n",
    "\n",
    "        if verbose:\n",
    "            print\n",
    "            print 'IP header'\n",
    "            print '---------'\n",
    "            print 'Version:             %s' % version\n",
    "            print 'IP Header Length:    %s' % ihl\n",
    "            print 'TTL:                 %s' % ttl\n",
    "            print 'Protocol:            %s' % protocol\n",
    "            print 'Source Address:      %s' % s_addr\n",
    "            print 'Destination Address: %s' % d_addr\n",
    "\n",
    "        ## TCP protocol\n",
    "        if protocol == 6 :\n",
    "            protocol_acronym = 'TCP'\n",
    "\n",
    "            t = iph_length + eth_length\n",
    "            tcp_header = packet[t:t+20]\n",
    "\n",
    "            ## unpack them\n",
    "            tcph = unpack('!HHLLBBHHH' , tcp_header)\n",
    "\n",
    "            source_port = tcph[0]\n",
    "            dest_port = tcph[1]\n",
    "            sequence = tcph[2]\n",
    "            acknowledgement = tcph[3]\n",
    "            doff_reserved = tcph[4]\n",
    "            tcph_length = doff_reserved >> 4\n",
    "\n",
    "            if verbose:\n",
    "                print\n",
    "                print 'TCP header'\n",
    "                print '----------'\n",
    "                print 'Source Port:         %s' % source_port\n",
    "                print 'Dest Port:           %s' % dest_port\n",
    "                print 'Sequence Number:     %s' % sequence\n",
    "                print 'Acknowledgement:     %s' % acknowledgement\n",
    "                print 'TCP header length:   %s' % tcph_length\n",
    "\n",
    "            h_size = eth_length + iph_length + tcph_length * 4\n",
    "            data_size = len(packet) - h_size\n",
    "\n",
    "            ## get data from the packet\n",
    "            data = packet[h_size:]\n",
    "\n",
    "            if verbose:\n",
    "                print 'Data: \\n\"\"\"\\n%s\\n\"\"\"' % data\n",
    "\n",
    "        ## ICMP Packets\n",
    "        elif protocol == 1 :\n",
    "            protocol_acronym = 'ICMP'\n",
    "\n",
    "            u = iph_length + eth_length\n",
    "            icmph_length = 4\n",
    "            icmp_header = packet[u:u+4]\n",
    "\n",
    "            #now unpack them :)\n",
    "            icmph = unpack('!BBH' , icmp_header)\n",
    "\n",
    "            icmp_type = icmph[0]\n",
    "            code = icmph[1]\n",
    "            checksum = icmph[2]\n",
    "\n",
    "            if verbose:\n",
    "                print\n",
    "                print 'ICMP header'\n",
    "                print '-----------'\n",
    "                print 'Type :     %s' % icmp_type\n",
    "                print 'Code :     %s' % code\n",
    "                print 'Checksum : %s' % checksum\n",
    "\n",
    "            h_size = eth_length + iph_length + icmph_length\n",
    "            data_size = len(packet) - h_size\n",
    "\n",
    "            #get data from the packet\n",
    "            data = packet[h_size:]\n",
    "\n",
    "            if verbose:\n",
    "                print 'Data: %s' % data\n",
    "\n",
    "        ## UDP packets\n",
    "        elif protocol == 17 :\n",
    "            protocol_acronym = 'UDP'\n",
    "\n",
    "            u = iph_length + eth_length\n",
    "            udph_length = 8\n",
    "            udp_header = packet[u:u+8]\n",
    "\n",
    "            #now unpack them :)\n",
    "            udph = unpack('!HHHH' , udp_header)\n",
    "\n",
    "            source_port = udph[0]\n",
    "            dest_port = udph[1]\n",
    "            length = udph[2]\n",
    "            checksum = udph[3]\n",
    "\n",
    "            if verbose:\n",
    "                print\n",
    "                print 'UDP header'\n",
    "                print '----------'\n",
    "                print 'Source Port: %s' % source_port\n",
    "                print 'Dest Port:   %s' % dest_port\n",
    "                print 'Length:      %s' % length\n",
    "                print 'Checksum:    %s' % checksum\n",
    "\n",
    "            h_size = eth_length + iph_length + udph_length\n",
    "            data_size = len(packet) - h_size\n",
    "\n",
    "            #get data from the packet\n",
    "            data = packet[h_size:]\n",
    "\n",
    "            if verbose:\n",
    "                print 'Data: %s' % data\n",
    "\n",
    "        #some other IP packet like IGMP\n",
    "        else :\n",
    "            print 'Protocol other than TCP/UDP/ICMP'\n",
    "            protocol_acronym = 'Other'\n",
    "\n",
    "        if 'source_port' not in locals():\n",
    "            return s_addr, d_addr, protocol_acronym\n",
    "        return s_addr, d_addr, source_port, dest_port, protocol_acronym\n",
    "\n",
    "\n",
    "## start sniffing packets\n",
    "try:\n",
    "    while True:\n",
    "        try:\n",
    "            header, packet = packet_capture.next()\n",
    "            addresses = parse_packet(packet)\n",
    "\n",
    "            try:\n",
    "                protocol = list(addresses).pop()\n",
    "                addresses = zip(*(iter(addresses),) * 2)\n",
    "            except TypeError:\n",
    "                continue\n",
    "\n",
    "            source_ip, dest_ip = addresses[0]\n",
    "            try:\n",
    "                source_port, dest_port = addresses[1]\n",
    "            except IndexError:\n",
    "                print protocol, source_ip, dest_ip\n",
    "                continue\n",
    "\n",
    "            dt = '{:%H:%M:%S}'.format(datetime.datetime.now())\n",
    "            row = dt, protocol, source_ip, dest_ip, source_port, dest_port\n",
    "\n",
    "             ## print to stdout whoich can then be piped to csv file\n",
    "            print '\\t'.join(map(str, row))\n",
    "\n",
    "        except pcapy.PcapError, e:\n",
    "            pass\n",
    "\n",
    "except Exception, e:\n",
    "    print e\n"
   ]
  },
  {
   "cell_type": "markdown",
   "metadata": {},
   "source": [
    "# Using Scapy"
   ]
  },
  {
   "cell_type": "markdown",
   "metadata": {},
   "source": [
    "**/!\\ Remember to run this ipython notebook in sudo mode to use pcapy and scapy**"
   ]
  },
  {
   "cell_type": "code",
   "execution_count": null,
   "metadata": {
    "collapsed": false
   },
   "outputs": [],
   "source": [
    "from scapy.all import *"
   ]
  },
  {
   "cell_type": "code",
   "execution_count": 8,
   "metadata": {
    "collapsed": false
   },
   "outputs": [
    {
     "data": {
      "text/html": [
       "\n",
       "        <iframe\n",
       "            width=\"1000\"\n",
       "            height=\"170\"\n",
       "            src=\"http://www.secdev.org/projects/scapy/doc/usage.html#sniffing\"\n",
       "            frameborder=\"0\"\n",
       "            allowfullscreen\n",
       "        ></iframe>\n",
       "        "
      ],
      "text/plain": [
       "<IPython.lib.display.IFrame at 0x1077b13d0>"
      ]
     },
     "execution_count": 8,
     "metadata": {},
     "output_type": "execute_result"
    }
   ],
   "source": [
    "IFrame('http://www.secdev.org/projects/scapy/doc/usage.html#sniffing', width=1000, height=170)"
   ]
  },
  {
   "cell_type": "code",
   "execution_count": null,
   "metadata": {
    "collapsed": false
   },
   "outputs": [],
   "source": [
    "received_packets = sniff(filter=\"tcp\", count=2)"
   ]
  },
  {
   "cell_type": "code",
   "execution_count": null,
   "metadata": {
    "collapsed": false
   },
   "outputs": [],
   "source": [
    "received_packets.nsummary()"
   ]
  }
 ],
 "metadata": {
  "kernelspec": {
   "display_name": "Python 2",
   "language": "python",
   "name": "python2"
  },
  "language_info": {
   "codemirror_mode": {
    "name": "ipython",
    "version": 2
   },
   "file_extension": ".py",
   "mimetype": "text/x-python",
   "name": "python",
   "nbconvert_exporter": "python",
   "pygments_lexer": "ipython2",
   "version": "2.7.9"
  }
 },
 "nbformat": 4,
 "nbformat_minor": 0
}
